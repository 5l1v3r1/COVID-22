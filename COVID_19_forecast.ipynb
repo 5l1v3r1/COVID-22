{
 "cells": [
  {
   "cell_type": "code",
   "execution_count": 1,
   "metadata": {},
   "outputs": [],
   "source": [
    "import urllib.request \n",
    "import os\n",
    "import zipfile\n",
    "import pandas as pd"
   ]
  },
  {
   "cell_type": "code",
   "execution_count": 2,
   "metadata": {},
   "outputs": [],
   "source": [
    "## Download and unzip COVID cases\n",
    "temporary_folder = os.path.join(os.getcwd(), 'tmp')\n",
    "if not os.path.exists(temporary_folder):\n",
    "    os.makedirs(temporary_folder)\n",
    "    \n",
    "remote_file_name = \"https://github.com/CSSEGISandData/COVID-19/archive/master.zip\"\n",
    "base_name = os.path.basename(remote_file_name)\n",
    "local_file_name = os.path.join(temporary_folder, base_name)\n",
    "\n",
    "urllib.request.urlretrieve(remote_file_name, local_file_name)\n",
    "\n",
    "data_folder = os.path.join(os.getcwd(), 'world_data') \n",
    "if not os.path.exists(data_folder):\n",
    "    os.makedirs(data_folder)\n",
    "    \n",
    "with zipfile.ZipFile(local_file_name, 'r') as zip_ref:\n",
    "    zip_ref.extractall(data_folder)\n",
    "    \n",
    "#!unzip master.zip"
   ]
  },
  {
   "cell_type": "code",
   "execution_count": 3,
   "metadata": {},
   "outputs": [
    {
     "data": {
      "text/plain": [
       "('/Users/wcunha69/Documents/projects/COVID-19/tmp/world_population.xls',\n",
       " <http.client.HTTPMessage at 0x11bf1a490>)"
      ]
     },
     "execution_count": 3,
     "metadata": {},
     "output_type": "execute_result"
    }
   ],
   "source": [
    "## Download world population\n",
    "remote_file_name = \"http://api.worldbank.org/v2/en/indicator/SP.POP.TOTL?downloadformat=excel\"\n",
    "world_population_file = os.path.join(temporary_folder, \"world_population.xls\")\n",
    "\n",
    "# The following statement is throwing an error but the download is being performed\n",
    "urllib.request.urlretrieve(remote_file_name, world_population_file) "
   ]
  },
  {
   "cell_type": "code",
   "execution_count": 34,
   "metadata": {},
   "outputs": [
    {
     "name": "stdout",
     "output_type": "stream",
     "text": [
      "          country country_code  population\n",
      "0           Aruba          ABW      105845\n",
      "1     Afghanistan          AFG    37172386\n",
      "2          Angola          AGO    30809762\n",
      "3         Albania          ALB     2866376\n",
      "4         Andorra          AND       77006\n",
      "..            ...          ...         ...\n",
      "259        Kosovo          XKX     1845300\n",
      "260   Yemen, Rep.          YEM    28498687\n",
      "261  South Africa          ZAF    57779622\n",
      "262        Zambia          ZMB    17351822\n",
      "263      Zimbabwe          ZWE    14439018\n",
      "\n",
      "[264 rows x 3 columns]\n"
     ]
    }
   ],
   "source": [
    "## Load world population DataFrame\n",
    "world_population = pd.read_excel(world_population_file, sheet_name=\"Data\", dtype=object, skiprows=3)\n",
    "world_population = world_population[[\"Country Name\", \"Country Code\", \"2018\"]]\n",
    "world_population = world_population.rename(\n",
    "    {\"Country Name\":\"country\",\"Country Code\":\"country_code\", \"2018\":\"population\"}, \n",
    "    axis='columns') \n",
    "\n",
    "world_population['population'] = world_population['population'].fillna(0)\n",
    "world_population['population'] = world_population['population'].astype('int')\n",
    "print(world_population)\n"
   ]
  },
  {
   "cell_type": "code",
   "execution_count": 12,
   "metadata": {},
   "outputs": [
    {
     "name": "stdout",
     "output_type": "stream",
     "text": [
      "                            province_state         country  \\\n",
      "0                                    Hubei  Mainland China   \n",
      "1                                Guangdong  Mainland China   \n",
      "2                                    Henan  Mainland China   \n",
      "3                                      NaN     South Korea   \n",
      "4                                 Zhejiang  Mainland China   \n",
      "...                                    ...             ...   \n",
      "7009                    Northern Territory       Australia   \n",
      "7010  Lackland, TX (From Diamond Princess)              US   \n",
      "7011                 Montgomery County, TX              US   \n",
      "7012     Omaha, NE (From Diamond Princess)              US   \n",
      "7013    Travis, CA (From Diamond Princess)              US   \n",
      "\n",
      "              last_update  confirmed  deaths  recovered  latitude  longitude  \n",
      "0     2020-02-26T14:13:10    65187.0  2615.0    20969.0       NaN        NaN  \n",
      "1     2020-02-26T10:33:02     1347.0     7.0      851.0       NaN        NaN  \n",
      "2     2020-02-26T10:33:02     1271.0    19.0     1033.0       NaN        NaN  \n",
      "3     2020-02-26T11:03:11     1261.0    12.0       22.0       NaN        NaN  \n",
      "4     2020-02-26T10:33:02     1205.0     1.0      867.0       NaN        NaN  \n",
      "...                   ...        ...     ...        ...       ...        ...  \n",
      "7009  2020-03-06T04:33:03        0.0     0.0        0.0  -12.4634   130.8456  \n",
      "7010  2020-02-24T23:33:02        0.0     0.0        0.0   29.3829   -98.6134  \n",
      "7011  2020-03-07T19:53:02        0.0     0.0        0.0   30.3213   -95.4778  \n",
      "7012  2020-02-24T23:33:02        0.0     0.0        0.0   41.2545   -95.9758  \n",
      "7013  2020-02-24T23:33:02        0.0     0.0        0.0   38.2721  -121.9399  \n",
      "\n",
      "[7014 rows x 8 columns]\n"
     ]
    }
   ],
   "source": [
    "## Load COVID cases \n",
    "covid_folder = os.path.join(data_folder, 'COVID-19-master/csse_covid_19_data/csse_covid_19_daily_reports/')\n",
    "\n",
    "li = []\n",
    "for covid_file in os.listdir(covid_folder):\n",
    "    if covid_file.find(\".csv\") > -1:\n",
    "        df = pd.read_csv(os.path.join(covid_folder, covid_file), index_col=None, header=0)\n",
    "        li.append(df)\n",
    "\n",
    "covid_cases = pd.concat(li, axis=0, ignore_index=True)\n",
    "covid_cases = covid_cases.rename(\n",
    "    {\n",
    "        \"Province/State\":\"province_state\",\n",
    "        \"Country/Region\":\"country\", \n",
    "        \"Last Update\":\"last_update\",\n",
    "        \"Confirmed\":\"confirmed\",\n",
    "        \"Deaths\":\"deaths\",\n",
    "        \"Recovered\":\"recovered\",\n",
    "        \"Latitude\":\"latitude\",\n",
    "        \"Longitude\":\"longitude\"\n",
    "    }, axis='columns'\n",
    ") \n",
    "\n",
    "\n",
    "print(covid_cases)\n",
    "#print(recent)\n",
    "#covid = pd.read_csv(covid)\n",
    "#print(covid)"
   ]
  },
  {
   "cell_type": "code",
   "execution_count": 35,
   "metadata": {},
   "outputs": [
    {
     "name": "stdout",
     "output_type": "stream",
     "text": [
      "9                                 Others\n",
      "39                                Taiwan\n",
      "421                  Taipei and environs\n",
      "436       occupied Palestinian territory\n",
      "490                        French Guiana\n",
      "506                  Republic of Moldova\n",
      "516                           Martinique\n",
      "518                         Saint Martin\n",
      "527                               Brunei\n",
      "531                             Holy See\n",
      "541                     Saint Barthelemy\n",
      "577                          Cruise Ship\n",
      "616                              Czechia\n",
      "634                              Taiwan*\n",
      "747                     Congo (Kinshasa)\n",
      "757                              Reunion\n",
      "992                            Palestine\n",
      "1144                        Vatican City\n",
      "2347                          Guadeloupe\n",
      "2414                         Saint Lucia\n",
      "2423                 Congo (Brazzaville)\n",
      "2433                             Mayotte\n",
      "2435    Saint Vincent and the Grenadines\n",
      "2441                          The Gambia\n",
      "2446                            Guernsey\n",
      "2447                              Jersey\n",
      "2449               Republic of the Congo\n",
      "2968                         Ivory Coast\n",
      "4539                        Bahamas, The\n",
      "4543                          Kyrgyzstan\n",
      "5068                          Azerbaijan\n",
      "6657                          St. Martin\n",
      "Name: country, dtype: object\n"
     ]
    }
   ],
   "source": [
    "## Adjusting country names and merging dataframes\n",
    "world_population = world_population.replace(\"Korea, Rep.\", \"South Korea\")\n",
    "world_population = world_population.replace(\"Hong Kong SAR, China\", \"Hong Kong\")\n",
    "world_population = world_population.replace(\"Iran, Islamic Rep.\", \"Iran\")\n",
    "world_population = world_population.replace(\"Russian Federation\", \"Russia\")\n",
    "world_population = world_population.replace(\"Macao SAR, China\", \"Macau\")\n",
    "world_population = world_population.replace(\"Venezuela, RB\", \"Venezuela\")\n",
    "world_population = world_population.replace(\"Bahamas, The\", \"The Bahamas\")\n",
    "world_population = world_population.replace(\"Egypt, Arab Rep.\", \"Egypt\")\n",
    "world_population = world_population.replace(\"Slovak Republic\", \"Slovakia\")\n",
    "covid_cases = covid_cases.replace(\"Mainland China\", \"China\")\n",
    "covid_cases = covid_cases.replace(\"US\", \"United States\")\n",
    "covid_cases = covid_cases.replace(\"UK\", \"United Kingdom\")\n",
    "covid_cases = covid_cases.replace(\"Iran (Islamic Republic of)\", \"Iran\")\n",
    "covid_cases = covid_cases.replace(\"Russian Federation\", \"Russia\")\n",
    "covid_cases = covid_cases.replace(\"Republic of Korea\", \"South Korea\")\n",
    "covid_cases = covid_cases.replace(\"Hong Kong SAR\", \"Hong Kong\")\n",
    "covid_cases = covid_cases.replace(\"Viet Nam\", \"Vietnam\")\n",
    "covid_cases = covid_cases.replace(\"Macao SAR\", \"Macau\")\n",
    "covid_cases = covid_cases.replace(\"Korea, South\", \"South Korea\")\n",
    "covid_cases = covid_cases.replace(\"North Ireland\", \"United Kingdom\")\n",
    "covid_cases = covid_cases.replace(\"Republic of Ireland\", \"Ireland\")\n",
    "\n",
    "covid_cases_pop = pd.merge(covid_cases, world_population, how='left', on='country')\n",
    "print(((covid_cases_pop[covid_cases_pop['population'].isnull()])[\"country\"]).drop_duplicates())"
   ]
  },
  {
   "cell_type": "code",
   "execution_count": 23,
   "metadata": {},
   "outputs": [
    {
     "name": "stdout",
     "output_type": "stream",
     "text": [
      "                            province_state        country  \\\n",
      "0                                    Hubei          China   \n",
      "1                                Guangdong          China   \n",
      "2                                    Henan          China   \n",
      "3                                      NaN    South Korea   \n",
      "4                                 Zhejiang          China   \n",
      "...                                    ...            ...   \n",
      "7009                    Northern Territory      Australia   \n",
      "7010  Lackland, TX (From Diamond Princess)  United States   \n",
      "7011                 Montgomery County, TX  United States   \n",
      "7012     Omaha, NE (From Diamond Princess)  United States   \n",
      "7013    Travis, CA (From Diamond Princess)  United States   \n",
      "\n",
      "              last_update  confirmed  deaths  recovered  latitude  longitude  \\\n",
      "0     2020-02-26T14:13:10    65187.0  2615.0    20969.0       NaN        NaN   \n",
      "1     2020-02-26T10:33:02     1347.0     7.0      851.0       NaN        NaN   \n",
      "2     2020-02-26T10:33:02     1271.0    19.0     1033.0       NaN        NaN   \n",
      "3     2020-02-26T11:03:11     1261.0    12.0       22.0       NaN        NaN   \n",
      "4     2020-02-26T10:33:02     1205.0     1.0      867.0       NaN        NaN   \n",
      "...                   ...        ...     ...        ...       ...        ...   \n",
      "7009  2020-03-06T04:33:03        0.0     0.0        0.0  -12.4634   130.8456   \n",
      "7010  2020-02-24T23:33:02        0.0     0.0        0.0   29.3829   -98.6134   \n",
      "7011  2020-03-07T19:53:02        0.0     0.0        0.0   30.3213   -95.4778   \n",
      "7012  2020-02-24T23:33:02        0.0     0.0        0.0   41.2545   -95.9758   \n",
      "7013  2020-02-24T23:33:02        0.0     0.0        0.0   38.2721  -121.9399   \n",
      "\n",
      "     country_code    population  \n",
      "0             CHN  1.392730e+09  \n",
      "1             CHN  1.392730e+09  \n",
      "2             CHN  1.392730e+09  \n",
      "3             KOR  5.163526e+07  \n",
      "4             CHN  1.392730e+09  \n",
      "...           ...           ...  \n",
      "7009          AUS  2.499237e+07  \n",
      "7010          USA  3.271674e+08  \n",
      "7011          USA  3.271674e+08  \n",
      "7012          USA  3.271674e+08  \n",
      "7013          USA  3.271674e+08  \n",
      "\n",
      "[7014 rows x 10 columns]\n"
     ]
    }
   ],
   "source": [
    "print(covid_cases_pop)"
   ]
  },
  {
   "cell_type": "code",
   "execution_count": null,
   "metadata": {},
   "outputs": [],
   "source": []
  }
 ],
 "metadata": {
  "kernelspec": {
   "display_name": "Python 3",
   "language": "python",
   "name": "python3"
  },
  "language_info": {
   "codemirror_mode": {
    "name": "ipython",
    "version": 3
   },
   "file_extension": ".py",
   "mimetype": "text/x-python",
   "name": "python",
   "nbconvert_exporter": "python",
   "pygments_lexer": "ipython3",
   "version": "3.7.6"
  }
 },
 "nbformat": 4,
 "nbformat_minor": 4
}
